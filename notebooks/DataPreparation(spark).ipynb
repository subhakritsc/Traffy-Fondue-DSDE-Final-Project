{
  "nbformat": 4,
  "nbformat_minor": 0,
  "metadata": {
    "colab": {
      "provenance": []
    },
    "kernelspec": {
      "name": "python3",
      "display_name": "Python 3"
    },
    "language_info": {
      "name": "python"
    }
  },
  "cells": [
    {
      "cell_type": "code",
      "source": [
        "!pip install gdown\n",
        "\n",
        "# to upgrade\n",
        "!pip install --upgrade gdown\n",
        "\n",
        "!pip install pyspark"
      ],
      "metadata": {
        "colab": {
          "base_uri": "https://localhost:8080/"
        },
        "id": "2Bfl5LQKc865",
        "outputId": "180bc16e-993a-47c6-f04f-489dd71b806c"
      },
      "execution_count": 58,
      "outputs": [
        {
          "output_type": "stream",
          "name": "stdout",
          "text": [
            "Requirement already satisfied: gdown in /usr/local/lib/python3.11/dist-packages (5.2.0)\n",
            "Requirement already satisfied: beautifulsoup4 in /usr/local/lib/python3.11/dist-packages (from gdown) (4.13.4)\n",
            "Requirement already satisfied: filelock in /usr/local/lib/python3.11/dist-packages (from gdown) (3.18.0)\n",
            "Requirement already satisfied: requests[socks] in /usr/local/lib/python3.11/dist-packages (from gdown) (2.32.3)\n",
            "Requirement already satisfied: tqdm in /usr/local/lib/python3.11/dist-packages (from gdown) (4.67.1)\n",
            "Requirement already satisfied: soupsieve>1.2 in /usr/local/lib/python3.11/dist-packages (from beautifulsoup4->gdown) (2.7)\n",
            "Requirement already satisfied: typing-extensions>=4.0.0 in /usr/local/lib/python3.11/dist-packages (from beautifulsoup4->gdown) (4.13.2)\n",
            "Requirement already satisfied: charset-normalizer<4,>=2 in /usr/local/lib/python3.11/dist-packages (from requests[socks]->gdown) (3.4.1)\n",
            "Requirement already satisfied: idna<4,>=2.5 in /usr/local/lib/python3.11/dist-packages (from requests[socks]->gdown) (3.10)\n",
            "Requirement already satisfied: urllib3<3,>=1.21.1 in /usr/local/lib/python3.11/dist-packages (from requests[socks]->gdown) (2.4.0)\n",
            "Requirement already satisfied: certifi>=2017.4.17 in /usr/local/lib/python3.11/dist-packages (from requests[socks]->gdown) (2025.4.26)\n",
            "Requirement already satisfied: PySocks!=1.5.7,>=1.5.6 in /usr/local/lib/python3.11/dist-packages (from requests[socks]->gdown) (1.7.1)\n",
            "Requirement already satisfied: gdown in /usr/local/lib/python3.11/dist-packages (5.2.0)\n",
            "Requirement already satisfied: beautifulsoup4 in /usr/local/lib/python3.11/dist-packages (from gdown) (4.13.4)\n",
            "Requirement already satisfied: filelock in /usr/local/lib/python3.11/dist-packages (from gdown) (3.18.0)\n",
            "Requirement already satisfied: requests[socks] in /usr/local/lib/python3.11/dist-packages (from gdown) (2.32.3)\n",
            "Requirement already satisfied: tqdm in /usr/local/lib/python3.11/dist-packages (from gdown) (4.67.1)\n",
            "Requirement already satisfied: soupsieve>1.2 in /usr/local/lib/python3.11/dist-packages (from beautifulsoup4->gdown) (2.7)\n",
            "Requirement already satisfied: typing-extensions>=4.0.0 in /usr/local/lib/python3.11/dist-packages (from beautifulsoup4->gdown) (4.13.2)\n",
            "Requirement already satisfied: charset-normalizer<4,>=2 in /usr/local/lib/python3.11/dist-packages (from requests[socks]->gdown) (3.4.1)\n",
            "Requirement already satisfied: idna<4,>=2.5 in /usr/local/lib/python3.11/dist-packages (from requests[socks]->gdown) (3.10)\n",
            "Requirement already satisfied: urllib3<3,>=1.21.1 in /usr/local/lib/python3.11/dist-packages (from requests[socks]->gdown) (2.4.0)\n",
            "Requirement already satisfied: certifi>=2017.4.17 in /usr/local/lib/python3.11/dist-packages (from requests[socks]->gdown) (2025.4.26)\n",
            "Requirement already satisfied: PySocks!=1.5.7,>=1.5.6 in /usr/local/lib/python3.11/dist-packages (from requests[socks]->gdown) (1.7.1)\n",
            "Requirement already satisfied: pyspark in /usr/local/lib/python3.11/dist-packages (3.5.5)\n",
            "Requirement already satisfied: py4j==0.10.9.7 in /usr/local/lib/python3.11/dist-packages (from pyspark) (0.10.9.7)\n"
          ]
        }
      ]
    },
    {
      "cell_type": "code",
      "source": [
        "import gdown\n",
        "url = \"https://drive.google.com/file/d/13xxXYVtwlP50BXGOHpnb8bGlNVHxoxyZ/view?usp=sharing\"\n",
        "output = \"bangkok_traffy.csv\"\n",
        "gdown.download(url=url, output=output, fuzzy=True)"
      ],
      "metadata": {
        "colab": {
          "base_uri": "https://localhost:8080/",
          "height": 121
        },
        "id": "mFl-IjVXaq1N",
        "outputId": "06a8a3c1-76d9-4b50-f1ad-85eadf8ad735"
      },
      "execution_count": 59,
      "outputs": [
        {
          "output_type": "stream",
          "name": "stderr",
          "text": [
            "Downloading...\n",
            "From (original): https://drive.google.com/uc?id=13xxXYVtwlP50BXGOHpnb8bGlNVHxoxyZ\n",
            "From (redirected): https://drive.google.com/uc?id=13xxXYVtwlP50BXGOHpnb8bGlNVHxoxyZ&confirm=t&uuid=b34f896e-3a88-4d63-b7ee-2cd56a4ee4ed\n",
            "To: /content/bangkok_traffy.csv\n",
            "100%|██████████| 1.07G/1.07G [00:20<00:00, 51.1MB/s]\n"
          ]
        },
        {
          "output_type": "execute_result",
          "data": {
            "text/plain": [
              "'bangkok_traffy.csv'"
            ],
            "application/vnd.google.colaboratory.intrinsic+json": {
              "type": "string"
            }
          },
          "metadata": {},
          "execution_count": 59
        }
      ]
    },
    {
      "cell_type": "markdown",
      "source": [
        "Fix broken CSV before read_csv"
      ],
      "metadata": {
        "id": "yZlCYQEZS2A5"
      }
    },
    {
      "cell_type": "code",
      "source": [
        "import csv\n",
        "\n",
        "\n",
        "with open('bangkok_traffy.csv', 'r', encoding='utf-8', errors='replace') as infile, \\\n",
        "     open('cleaned_traffy.csv', 'w', encoding='utf-8', newline='') as outfile:\n",
        "\n",
        "    reader = csv.reader(infile)\n",
        "    writer = csv.writer(outfile)\n",
        "\n",
        "    for row in reader:\n",
        "        if len(row) > 1:\n",
        "            writer.writerow(row)"
      ],
      "metadata": {
        "id": "aXg-P8QDPYGD"
      },
      "execution_count": 72,
      "outputs": []
    },
    {
      "cell_type": "markdown",
      "source": [
        "read_csv"
      ],
      "metadata": {
        "id": "pdw8Qvm9TFA1"
      }
    },
    {
      "cell_type": "code",
      "source": [
        "from pyspark.sql import SparkSession\n",
        "from pyspark.sql.functions import col, split, regexp_replace, trim\n",
        "\n",
        "spark = SparkSession.builder.appName(\"TraffyAnalysis\").getOrCreate()\n",
        "df = spark.read.option(\"header\", True).option(\"encoding\", \"utf-8\").csv(\"cleaned_traffy.csv\")\n",
        "df.head(5)"
      ],
      "metadata": {
        "colab": {
          "base_uri": "https://localhost:8080/"
        },
        "id": "yWA0ZFJpkVzz",
        "outputId": "2ed96a83-43c8-4160-87c6-8f90f25e900e"
      },
      "execution_count": 73,
      "outputs": [
        {
          "output_type": "execute_result",
          "data": {
            "text/plain": [
              "[Row(ticket_id='2021-FYJTFP', type='{ความสะอาด}', organization='เขตบางซื่อ', comment='ขยะเยอะ', photo='https://storage.googleapis.com/traffy_public_bucket/attachment/2021-09/3063e748259afbb7171467e19b92e9cc1f1a5826.jpg', photo_after=None, coords='100.53084,13.81865', address='12/14 ถนน กรุงเทพ- นนทบุรี แขวง บางซื่อ เขตบางซื่อ กรุงเทพมหานคร 10800 ประเทศไทย', subdistrict=None, district=None, province='กรุงเทพมหานคร', timestamp='2021-09-03 12:51:09.453003+00', state='เสร็จสิ้น', star=None, count_reopen='0', last_activity='2022-06-04 15:34:14.609206+00'),\n",
              " Row(ticket_id='2021-CGPMUN', type='{น้ำท่วม,ร้องเรียน}', organization='เขตประเวศ,ฝ่ายโยธา เขตประเวศ', comment='น้ำท่วมเวลาฝนตกและทะลุเข้าบ้านเดือดร้อนมากทุกๆปีจะมีเครื่องสูบน้ำแต่ปีนี้ไม่มีกทม.ปล่อยทิ้ง ชุมชนเคหะนคร1แปลง2(ซ.เฉลิมพระเกียรติร.9ซอง22 วัดตะกล่ำ ประเวศ)', photo='https://storage.googleapis.com/traffy_public_bucket/attachment/2021-09/41ef2b1b465b708db17363a6d5fd8c5336266df7.jpg', photo_after='https://storage.googleapis.com/traffy_public_bucket/attachment/2022-06/b562e36f971f02221bd0f32b7272eb1ea516cacf.jpg', coords='100.66709,13.67891', address='189 เฉลิมพระเกียรติ ร.9 แขวง หนองบอน เขต ประเวศ กรุงเทพมหานคร 10250 ประเทศไทย', subdistrict='หนองบอน', district='ประเวศ', province='กรุงเทพมหานคร', timestamp='2021-09-19 14:56:08.924992+00', state='เสร็จสิ้น', star='4', count_reopen='0', last_activity='2022-06-21 08:21:09.532782+00'),\n",
              " Row(ticket_id='2021-7XATFA', type='{สะพาน}', organization='เขตสาทร', comment='สะพานลอยปรับปรุงไม่เสร็จตามกำหนด', photo=None, photo_after=None, coords=None, address=None, subdistrict=None, district=None, province=None, timestamp=None, state=None, star=None, count_reopen=None, last_activity=None),\n",
              " Row(ticket_id='ปากซอย สาทร12\"', type='https://storage.googleapis.com/traffy_public_bucket/attachment/2021-09/b0b738c84fb0d0b0bfd5c5ac004492eb6fde19c3.jpg', organization=None, comment='100.52649,13.72060', photo='191/1 ถนน สาทรเหนือ แขวง สีลม เขตบางรัก กรุงเทพมหานคร 10500 ประเทศไทย', photo_after='ยานนาวา', coords='สาทร', address='กรุงเทพมหานคร', subdistrict='2021-09-26 05:03:52.594898+00', district='เสร็จสิ้น', province=None, timestamp='0', state='2022-06-06 01:17:12.272904+00', star=None, count_reopen=None, last_activity=None),\n",
              " Row(ticket_id='2021-9U2NJT', type='{น้ำท่วม}', organization='เขตบางซื่อ,ฝ่ายโยธา เขตบางซื่อ', comment='น้ำท่วม', photo='https://storage.googleapis.com/traffy_public_bucket/attachment/2021-10/5a36fa060eb2a750e3ff47cdd30307f4639f445e.jpg', photo_after='https://storage.googleapis.com/traffy_public_bucket/attachment/2022-09/7739f2143dfff32905f68fbf7b11537e1a7b447d.jpg', coords='100.53099,13.81853', address='12/14 ถนน กรุงเทพ- นนทบุรี แขวง บางซื่อ เขตบางซื่อ กรุงเทพมหานคร 10800 ประเทศไทย', subdistrict=None, district=None, province='กรุงเทพมหานคร', timestamp='2021-10-14 10:45:27.713884+00', state='เสร็จสิ้น', star=None, count_reopen='0', last_activity='2022-09-08 08:35:43.784519+00')]"
            ]
          },
          "metadata": {},
          "execution_count": 73
        }
      ]
    },
    {
      "cell_type": "markdown",
      "source": [
        "Drop row with NA value"
      ],
      "metadata": {
        "id": "wwzecWS9TMSn"
      }
    },
    {
      "cell_type": "code",
      "source": [
        "df = df.dropna(subset=[\"organization\", \"comment\", \"timestamp\",\"state\",\"last_activity\"])"
      ],
      "metadata": {
        "id": "r_qVtwqgNpuk"
      },
      "execution_count": 74,
      "outputs": []
    },
    {
      "cell_type": "markdown",
      "source": [
        "Extract coords to longitude and latitude\n"
      ],
      "metadata": {
        "id": "9jLapWw7d_Ys"
      }
    },
    {
      "cell_type": "code",
      "source": [
        "df = df.withColumn(\"longitude\", split(col(\"coords\"), \",\")[0].cast(\"double\")) \\\n",
        "       .withColumn(\"latitude\", split(col(\"coords\"), \",\")[1].cast(\"double\")) \\\n",
        "       .drop(\"coords\")"
      ],
      "metadata": {
        "id": "SUOma36GT6qp"
      },
      "execution_count": 75,
      "outputs": []
    },
    {
      "cell_type": "markdown",
      "source": [
        "Clean comment text"
      ],
      "metadata": {
        "id": "TMieaegoeIEM"
      }
    },
    {
      "cell_type": "code",
      "source": [
        "import re\n",
        "from pyspark.sql.functions import udf\n",
        "from pyspark.sql.types import StringType\n",
        "\n",
        "def clean_text(text):\n",
        "    if text :\n",
        "      text = re.sub(r'\\n', ' ', text)\n",
        "      text = re.sub(r'[^\\u0E00-\\u0E7Fa-zA-Z0-9\\s]', '', text)\n",
        "\n",
        "      return text.strip()\n",
        "    return \"\"\n",
        "\n",
        "clean_comment_udf = udf(clean_text, StringType())\n",
        "\n",
        "df = df.withColumn(\"comment\", clean_comment_udf(col(\"comment\")))"
      ],
      "metadata": {
        "id": "0aT60YObVqbV"
      },
      "execution_count": 76,
      "outputs": []
    },
    {
      "cell_type": "markdown",
      "source": [
        "Download result.csv"
      ],
      "metadata": {
        "id": "MvsrlqXYeMZ3"
      }
    },
    {
      "cell_type": "code",
      "source": [
        "import os\n",
        "import shutil\n",
        "import glob\n",
        "\n",
        "output_dir = \"cleaned_result\"\n",
        "part_file = glob.glob(os.path.join(output_dir, \"part-*.csv\"))[0]\n",
        "\n",
        "shutil.move(part_file, \"result.csv\")\n",
        "\n",
        "from google.colab import files\n",
        "files.download(\"result.csv\")"
      ],
      "metadata": {
        "colab": {
          "base_uri": "https://localhost:8080/",
          "height": 17
        },
        "id": "wgqV0kl6WalP",
        "outputId": "a502ddbd-b1c3-478d-a872-b319d7aa2e8c"
      },
      "execution_count": 78,
      "outputs": [
        {
          "output_type": "display_data",
          "data": {
            "text/plain": [
              "<IPython.core.display.Javascript object>"
            ],
            "application/javascript": [
              "\n",
              "    async function download(id, filename, size) {\n",
              "      if (!google.colab.kernel.accessAllowed) {\n",
              "        return;\n",
              "      }\n",
              "      const div = document.createElement('div');\n",
              "      const label = document.createElement('label');\n",
              "      label.textContent = `Downloading \"${filename}\": `;\n",
              "      div.appendChild(label);\n",
              "      const progress = document.createElement('progress');\n",
              "      progress.max = size;\n",
              "      div.appendChild(progress);\n",
              "      document.body.appendChild(div);\n",
              "\n",
              "      const buffers = [];\n",
              "      let downloaded = 0;\n",
              "\n",
              "      const channel = await google.colab.kernel.comms.open(id);\n",
              "      // Send a message to notify the kernel that we're ready.\n",
              "      channel.send({})\n",
              "\n",
              "      for await (const message of channel.messages) {\n",
              "        // Send a message to notify the kernel that we're ready.\n",
              "        channel.send({})\n",
              "        if (message.buffers) {\n",
              "          for (const buffer of message.buffers) {\n",
              "            buffers.push(buffer);\n",
              "            downloaded += buffer.byteLength;\n",
              "            progress.value = downloaded;\n",
              "          }\n",
              "        }\n",
              "      }\n",
              "      const blob = new Blob(buffers, {type: 'application/binary'});\n",
              "      const a = document.createElement('a');\n",
              "      a.href = window.URL.createObjectURL(blob);\n",
              "      a.download = filename;\n",
              "      div.appendChild(a);\n",
              "      a.click();\n",
              "      div.remove();\n",
              "    }\n",
              "  "
            ]
          },
          "metadata": {}
        },
        {
          "output_type": "display_data",
          "data": {
            "text/plain": [
              "<IPython.core.display.Javascript object>"
            ],
            "application/javascript": [
              "download(\"download_9365e5fd-398d-436d-995d-7a2849f0df4c\", \"result.csv\", 636485581)"
            ]
          },
          "metadata": {}
        }
      ]
    }
  ]
}